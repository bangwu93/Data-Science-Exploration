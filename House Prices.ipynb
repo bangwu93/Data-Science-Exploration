{
 "cells": [
  {
   "cell_type": "markdown",
   "metadata": {},
   "source": [
    "# Exercise: To improve data visualisation using Seaborn, MatplotLib\n",
    "\n",
    "Desired Result: \n",
    "1. Obtain Trends/Correlations to build a preliminary model\n",
    "2. Identify opportunities for Feature Engineering\n",
    "3. Validate Feature Engineering\n",
    "\n",
    "Define Problem: To predict sales price accurately.\n",
    "\n",
    "## Process:\n",
    "## Exploratory Analysis --> Data Churning --> Data Modelling --> Prediction"
   ]
  },
  {
   "cell_type": "code",
   "execution_count": 1,
   "metadata": {},
   "outputs": [
    {
     "name": "stdout",
     "output_type": "stream",
     "text": [
      "Python version: 3.6.4 |Anaconda, Inc.| (default, Jan 16 2018, 10:22:32) [MSC v.1900 64 bit (AMD64)]\n",
      "pandas version: 0.22.0\n",
      "matplotlib version: 2.1.2\n",
      "NumPy version: 1.14.0\n",
      "SciPy version: 1.0.0\n",
      "IPython version: 6.2.1\n",
      "scikit-learn version: 0.19.1\n",
      "seaborn-learn version: 0.8.1\n"
     ]
    }
   ],
   "source": [
    "# This Python 3 environment comes with many helpful analytics libraries installed\n",
    "# It is defined by the kaggle/python docker image: https://github.com/kaggle/docker-python\n",
    "\n",
    "#load packages\n",
    "import sys #access to system parameters https://docs.python.org/3/library/sys.html\n",
    "print(\"Python version: {}\". format(sys.version))\n",
    "\n",
    "import pandas as pd #collection of functions for data processing and analysis modeled after R dataframes with SQL like features\n",
    "print(\"pandas version: {}\". format(pd.__version__))\n",
    "\n",
    "import matplotlib #collection of functions for scientific and publication-ready visualization\n",
    "print(\"matplotlib version: {}\". format(matplotlib.__version__))\n",
    "\n",
    "import matplotlib.pyplot as plt\n",
    "\n",
    "import numpy as np #foundational package for scientific computing\n",
    "print(\"NumPy version: {}\". format(np.__version__))\n",
    "\n",
    "import scipy as sp #collection of functions for scientific computing and advance mathematics\n",
    "print(\"SciPy version: {}\". format(sp.__version__)) \n",
    "\n",
    "import IPython\n",
    "from IPython import display #pretty printing of dataframes in Jupyter notebook\n",
    "print(\"IPython version: {}\". format(IPython.__version__)) \n",
    "\n",
    "import sklearn #collection of machine learning algorithms\n",
    "print(\"scikit-learn version: {}\". format(sklearn.__version__))\n",
    "\n",
    "import seaborn as sns\n",
    "print(\"seaborn-learn version: {}\". format(sns.__version__))\n",
    "\n",
    "\n",
    "#misc libraries\n",
    "import random\n",
    "import time\n"
   ]
  },
  {
   "cell_type": "code",
   "execution_count": 2,
   "metadata": {},
   "outputs": [
    {
     "name": "stdout",
     "output_type": "stream",
     "text": [
      "<class 'pandas.core.frame.DataFrame'>\n",
      "RangeIndex: 1460 entries, 0 to 1459\n",
      "Data columns (total 81 columns):\n",
      "Id               1460 non-null int64\n",
      "MSSubClass       1460 non-null int64\n",
      "MSZoning         1460 non-null object\n",
      "LotFrontage      1201 non-null float64\n",
      "LotArea          1460 non-null int64\n",
      "Street           1460 non-null object\n",
      "Alley            91 non-null object\n",
      "LotShape         1460 non-null object\n",
      "LandContour      1460 non-null object\n",
      "Utilities        1460 non-null object\n",
      "LotConfig        1460 non-null object\n",
      "LandSlope        1460 non-null object\n",
      "Neighborhood     1460 non-null object\n",
      "Condition1       1460 non-null object\n",
      "Condition2       1460 non-null object\n",
      "BldgType         1460 non-null object\n",
      "HouseStyle       1460 non-null object\n",
      "OverallQual      1460 non-null int64\n",
      "OverallCond      1460 non-null int64\n",
      "YearBuilt        1460 non-null int64\n",
      "YearRemodAdd     1460 non-null int64\n",
      "RoofStyle        1460 non-null object\n",
      "RoofMatl         1460 non-null object\n",
      "Exterior1st      1460 non-null object\n",
      "Exterior2nd      1460 non-null object\n",
      "MasVnrType       1452 non-null object\n",
      "MasVnrArea       1452 non-null float64\n",
      "ExterQual        1460 non-null object\n",
      "ExterCond        1460 non-null object\n",
      "Foundation       1460 non-null object\n",
      "BsmtQual         1423 non-null object\n",
      "BsmtCond         1423 non-null object\n",
      "BsmtExposure     1422 non-null object\n",
      "BsmtFinType1     1423 non-null object\n",
      "BsmtFinSF1       1460 non-null int64\n",
      "BsmtFinType2     1422 non-null object\n",
      "BsmtFinSF2       1460 non-null int64\n",
      "BsmtUnfSF        1460 non-null int64\n",
      "TotalBsmtSF      1460 non-null int64\n",
      "Heating          1460 non-null object\n",
      "HeatingQC        1460 non-null object\n",
      "CentralAir       1460 non-null object\n",
      "Electrical       1459 non-null object\n",
      "1stFlrSF         1460 non-null int64\n",
      "2ndFlrSF         1460 non-null int64\n",
      "LowQualFinSF     1460 non-null int64\n",
      "GrLivArea        1460 non-null int64\n",
      "BsmtFullBath     1460 non-null int64\n",
      "BsmtHalfBath     1460 non-null int64\n",
      "FullBath         1460 non-null int64\n",
      "HalfBath         1460 non-null int64\n",
      "BedroomAbvGr     1460 non-null int64\n",
      "KitchenAbvGr     1460 non-null int64\n",
      "KitchenQual      1460 non-null object\n",
      "TotRmsAbvGrd     1460 non-null int64\n",
      "Functional       1460 non-null object\n",
      "Fireplaces       1460 non-null int64\n",
      "FireplaceQu      770 non-null object\n",
      "GarageType       1379 non-null object\n",
      "GarageYrBlt      1379 non-null float64\n",
      "GarageFinish     1379 non-null object\n",
      "GarageCars       1460 non-null int64\n",
      "GarageArea       1460 non-null int64\n",
      "GarageQual       1379 non-null object\n",
      "GarageCond       1379 non-null object\n",
      "PavedDrive       1460 non-null object\n",
      "WoodDeckSF       1460 non-null int64\n",
      "OpenPorchSF      1460 non-null int64\n",
      "EnclosedPorch    1460 non-null int64\n",
      "3SsnPorch        1460 non-null int64\n",
      "ScreenPorch      1460 non-null int64\n",
      "PoolArea         1460 non-null int64\n",
      "PoolQC           7 non-null object\n",
      "Fence            281 non-null object\n",
      "MiscFeature      54 non-null object\n",
      "MiscVal          1460 non-null int64\n",
      "MoSold           1460 non-null int64\n",
      "YrSold           1460 non-null int64\n",
      "SaleType         1460 non-null object\n",
      "SaleCondition    1460 non-null object\n",
      "SalePrice        1460 non-null int64\n",
      "dtypes: float64(3), int64(35), object(43)\n",
      "memory usage: 924.0+ KB\n",
      "None\n"
     ]
    }
   ],
   "source": [
    "#Import raw training and validation data, and keep copy of training data\n",
    "data_raw = pd.read_csv(\"train.csv\")\n",
    "data_val = pd.read_csv(\"test.csv\")\n",
    "data_raw_copy = data_raw.copy(deep = True)\n",
    "\n",
    "data_cleaner = [data_raw, data_val]\n",
    "\n",
    "#Preview Data\n",
    "print(data_raw.info())"
   ]
  },
  {
   "cell_type": "code",
   "execution_count": 3,
   "metadata": {},
   "outputs": [
    {
     "name": "stdout",
     "output_type": "stream",
     "text": [
      "        Id  MSSubClass MSZoning  LotFrontage  LotArea Street Alley LotShape  \\\n",
      "1102  1103          20       RL         70.0     7000   Pave   NaN      Reg   \n",
      "1403  1404          20       RL         49.0    15256   Pave   NaN      IR1   \n",
      "1291  1292         160       RM         21.0     1680   Pave   NaN      Reg   \n",
      "28      29          20       RL         47.0    16321   Pave   NaN      IR1   \n",
      "409    410          60       FV         85.0    10800   Pave   NaN      Reg   \n",
      "1426  1427          60       RL         81.0    10944   Pave   NaN      IR1   \n",
      "83      84          20       RL         80.0     8892   Pave   NaN      IR1   \n",
      "11      12          60       RL         85.0    11924   Pave   NaN      IR1   \n",
      "22      23          20       RL         75.0     9742   Pave   NaN      Reg   \n",
      "1317  1318         120       FV         47.0     4230   Pave  Pave      Reg   \n",
      "\n",
      "     LandContour Utilities    ...     PoolArea PoolQC Fence MiscFeature  \\\n",
      "1102         Lvl    AllPub    ...            0    NaN  MnWw         NaN   \n",
      "1403         Lvl    AllPub    ...            0    NaN   NaN         NaN   \n",
      "1291         Lvl    AllPub    ...            0    NaN   NaN         NaN   \n",
      "28           Lvl    AllPub    ...            0    NaN   NaN         NaN   \n",
      "409          Lvl    AllPub    ...            0    NaN   NaN         NaN   \n",
      "1426         Lvl    AllPub    ...            0    NaN   NaN         NaN   \n",
      "83           Lvl    AllPub    ...            0    NaN   NaN         NaN   \n",
      "11           Lvl    AllPub    ...            0    NaN   NaN         NaN   \n",
      "22           Lvl    AllPub    ...            0    NaN   NaN         NaN   \n",
      "1317         Lvl    AllPub    ...            0    NaN   NaN         NaN   \n",
      "\n",
      "     MiscVal MoSold YrSold  SaleType  SaleCondition  SalePrice  \n",
      "1102       0      4   2007        WD         Family     135000  \n",
      "1403       0      8   2007        WD         Normal     282922  \n",
      "1291       0      2   2009        WD         Normal     119500  \n",
      "28         0     12   2006        WD         Normal     207500  \n",
      "409        0      4   2008       New        Partial     339750  \n",
      "1426       0      8   2008        WD         Normal     271000  \n",
      "83         0      7   2007       COD         Normal     126500  \n",
      "11         0      7   2006       New        Partial     345000  \n",
      "22         0      9   2008        WD         Normal     230000  \n",
      "1317       0      4   2007       New        Partial     208900  \n",
      "\n",
      "[10 rows x 81 columns]\n"
     ]
    }
   ],
   "source": [
    "#Sample Data\n",
    "\n",
    "print(data_raw.sample(10))"
   ]
  },
  {
   "cell_type": "code",
   "execution_count": null,
   "metadata": {},
   "outputs": [],
   "source": [
    "Response Variable:\n",
    "SalePrice - the property's sale price in dollars. This is the target variable that you're trying to predict."
   ]
  },
  {
   "cell_type": "markdown",
   "metadata": {},
   "source": [
    "## Let us visualise the input variables and try to understand further one by one.\n",
    "\n",
    "\n",
    "### Building Class & Zoning Variables:\n",
    "MSSubClass: The building class - Categorical. \n",
    "MSZoning: The general zoning classification - Categorical. \n",
    "\n",
    "### Questions:\n",
    "1. Which classes are the most common? \n",
    "> Houses zoned as RL are the most common followed by RM, FV, then RH and C. <br>\n",
    "Houses classified as 20, 60, 50, 120 and 160 are the most common. <br>\n",
    "    1. 20: 1-STORY 1946 & NEWER\n",
    "    2. 60: 2-STORY 1946 & NEWER\n",
    "    3. 50: 1-1/2 STORY FINISHED\n",
    "    4. 120: 1-STORY PUD (Planned Unit Development) - 1946 & NEWER\n",
    "    5. 160: 2-STORY PUD - 1946 & NEWER\n",
    "    \n",
    "2. Which classes are the most expensive?\n",
    "    >  1. MSSubClass\n",
    "        1. 60: 2-STORY 1946 & NEWER\n",
    "        2. 120: 1-STORY PUD (Planned Unit Development) - 1946 & NEWER\n",
    "        3. 75: 2-1/2 STORY ALL AGES\n",
    "        4. 20: 1-STORY 1946 & NEWER\n",
    "        5. 80: SPLIT OR MULTI-LEVEL\n",
    "    >  2. MSZoning\n",
    "        1. FV (Floating Vollage)\n",
    "        2. RL (Residential Low Density)\n",
    "        3. RL (Residential High Density)\n",
    "        4. RL (Residential Medium Density)\n",
    "        5. Commercial\n",
    "\n",
    "3. Is there a relationship between Housing Price and\n",
    "\n",
    "3. What is the relationship between MSSubClass and MSZoning?\n",
    "> Based on the Crosstab, we take note that: <br>\n",
    "Houses zoned under FV only has 20, 60, 120, and 160 building classes.\n",
    "\n",
    "### Conclusion:\n",
    "Hypothesis 1: Both MSSubClass and MSZoning jointly affects the SalePrice."
   ]
  },
  {
   "cell_type": "code",
   "execution_count": 10,
   "metadata": {
    "scrolled": true
   },
   "outputs": [
    {
     "name": "stdout",
     "output_type": "stream",
     "text": [
      "MSSubClass has values of: \n",
      "[ 20  30  40  45  50  60  70  75  80  85  90 120 160 180 190]\n",
      "MSSubZone has values of: \n",
      "['C (all)' 'FV' 'RH' 'RL' 'RM']\n"
     ]
    },
    {
     "data": {
      "image/png": "[encoded data removed]",
      "text/plain": [
       "<matplotlib.figure.Figure at 0x215535fe438>"
      ]
     },
     "metadata": {},
     "output_type": "display_data"
    },
    {
     "data": {
      "image/png": "[encoded data removed]",
      "text/plain": [
       "<matplotlib.figure.Figure at 0x2155353f518>"
      ]
     },
     "metadata": {},
     "output_type": "display_data"
    },
    {
     "name": "stdout",
     "output_type": "stream",
     "text": [
      "                     mean  size\n",
      "MSSubClass                     \n",
      "60          239948.501672   299\n",
      "120         200779.080460    87\n",
      "75          192437.500000    16\n",
      "20          185224.811567   536\n",
      "80          169736.551724    58\n",
      "70          166772.416667    60\n",
      "40          156125.000000     4\n",
      "85          147810.000000    20\n",
      "50          143302.972222   144\n",
      "160         138647.380952    63\n",
      "90          133541.076923    52\n",
      "190         129613.333333    30\n",
      "45          108591.666667    12\n",
      "180         102300.000000    10\n",
      "30           95829.724638    69\n",
      "  MSZoning      SalePrice\n",
      "1       FV  214014.061538\n",
      "3       RL  191004.994787\n",
      "2       RH  131558.375000\n",
      "4       RM  126316.830275\n",
      "0  C (all)   74528.000000\n"
     ]
    },
    {
     "data": {
      "image/png": "[encoded data removed]",
      "text/plain": [
       "<matplotlib.figure.Figure at 0x215536bdb70>"
      ]
     },
     "metadata": {},
     "output_type": "display_data"
    },
    {
     "data": {
      "image/png": "[encoded data removed]",
      "text/plain": [
       "<matplotlib.figure.Figure at 0x21551731da0>"
      ]
     },
     "metadata": {},
     "output_type": "display_data"
    },
    {
     "name": "stdout",
     "output_type": "stream",
     "text": [
      "MSZoning    C (all)  FV  RH   RL  RM\n",
      "MSSubClass                          \n",
      "20                2  13   3  508  10\n",
      "30                2   0   1   33  33\n",
      "40                0   0   0    2   2\n",
      "45                0   0   1    4   7\n",
      "50                4   0   1   88  51\n",
      "60                0  25   0  273   1\n",
      "70                1   0   3   30  26\n",
      "75                0   0   0    6  10\n",
      "80                0   0   0   58   0\n",
      "85                0   0   0   20   0\n",
      "90                0   0   3   43   6\n",
      "120               0   5   2   59  21\n",
      "160               0  22   0   11  30\n",
      "180               0   0   0    0  10\n",
      "190               1   0   2   16  11\n",
      "                              mean  size\n",
      "MSZoning MSSubClass                     \n",
      "FV       60          248558.600000    25\n",
      "RL       60          239544.457875   273\n",
      "FV       20          226289.538462    13\n",
      "         120         226140.000000     5\n",
      "RL       120         210029.491525    59\n",
      "         70          199808.733333    30\n",
      "RM       75          197050.000000    10\n",
      "RL       40          196500.000000     2\n",
      "         20          186467.039370   508\n",
      "         75          184750.000000     6\n",
      "RH       190         180000.000000     2\n",
      "RM       120         172920.952381    21\n",
      "RL       80          169736.551724    58\n",
      "         160         164909.090909    11\n",
      "FV       160         164749.318182    22\n",
      "RH       50          159434.000000     1\n",
      "         120         157000.000000     2\n",
      "RL       50          156277.477273    88\n",
      "         85          147810.000000    20\n",
      "RH       90          144666.666667     3\n",
      "RM       70          138403.192308    26\n",
      "         90          136300.000000     6\n",
      "         60          135000.000000     1\n",
      "RL       190         134662.500000    16\n",
      "C (all)  190         133900.000000     1\n",
      "RL       90          132379.906977    43\n",
      "RM       50          124698.039216    51\n",
      "RH       70          124533.333333     3\n",
      "RM       20          121327.500000    10\n",
      "         40          115750.000000     2\n",
      "         190         112718.181818    11\n",
      "         45          112414.285714     7\n",
      "RL       45          110050.000000     4\n",
      "RM       160         109876.666667    30\n",
      "RH       20          102966.666667     3\n",
      "RM       180         102300.000000    10\n",
      "         30           97983.969697    33\n",
      "RL       30           96481.212121    33\n",
      "C (all)  50           91044.000000     4\n",
      "RH       30           79000.000000     1\n",
      "         45           76000.000000     1\n",
      "C (all)  30           57950.000000     2\n",
      "         20           45652.000000     2\n",
      "         70           40000.000000     1\n"
     ]
    }
   ],
   "source": [
    "print(\"MSSubClass has values of: \")\n",
    "print(format(np.unique(data_raw[\"MSSubClass\"])))\n",
    "print(\"MSSubZone has values of: \")\n",
    "print(np.unique(data_raw[\"MSZoning\"]))\n",
    "\n",
    "#How are the two variables distributed?\n",
    "ax = sns.countplot(x=\"MSSubClass\", data=data_raw)\n",
    "plt.show()\n",
    "\n",
    "ax2 = sns.countplot(x=\"MSZoning\", data=data_raw)\n",
    "plt.show()\n",
    "\n",
    "#Is MSSubClass & MSZoning related to Housing Price?\n",
    "print(data_raw.groupby([\"MSSubClass\"], as_index = False)[\"SalePrice\"].aggregate([np.mean, np.size]).sort_values(\"mean\", ascending = False))\n",
    "print(data_raw.groupby([\"MSZoning\"], as_index = False)[\"SalePrice\"].mean().sort_values(\"SalePrice\", ascending = False))\n",
    "\n",
    "sns.boxplot(x = data_raw[\"MSSubClass\"], y = data_raw[\"SalePrice\"])\n",
    "plt.show()\n",
    "sns.boxplot(x = data_raw[\"MSZoning\"], y = data_raw[\"SalePrice\"])\n",
    "plt.show()\n",
    "\n",
    "#Is MSSubClass related to MSZoning?\n",
    "print(pd.crosstab(data_raw[\"MSSubClass\"], data_raw[\"MSZoning\"]))\n",
    "\n",
    "#Does MSZoning related to Housing Price because of MSSubClass?\n",
    "print(data_raw.groupby([\"MSZoning\", \"MSSubClass\"], as_index = False)[\"SalePrice\"].aggregate([np.mean, np.size]).sort_values(\"mean\", ascending = False))\n"
   ]
  },
  {
   "cell_type": "markdown",
   "metadata": {},
   "source": [
    "# Analysis of Lot Variables:\n",
    "\n",
    "Firstly, the variables are divivded into Numerical and Categorical Variables.\n",
    "\n",
    "## Numerical Variables:\n",
    "LotFrontage: Linear feet of street connected to property <br>\n",
    "LotArea: Lot size in square feet\n",
    "\n",
    "## Categorical Variables:\n",
    "1. Street: Type of road access - Pave or Gravel\n",
    "2. Alley: Type of alley access - \n",
    "3. LotShape: General shape of property\n",
    "4. LandContour: Flatness of the property\n",
    "5. Utilities: Type of utilities available\n",
    "6. LotConfig: Lot configuration\n",
    "7. LandSlope: Slope of property\n",
    "8. Neighborhood: Physical locations within Ames city limits\n",
    "9. Condition1: Proximity to main road or railroad\n",
    "10. Condition2: Proximity to main road or railroad (if a second is present)\n",
    "\n",
    "## Questions to Ask:\n",
    "1. What values do these variables take?\n",
    "2. How are they distributed? \n",
    "3. Are they correlated to any other variables or our output variable?"
   ]
  },
  {
   "cell_type": "markdown",
   "metadata": {},
   "source": [
    "## Analysis of Numerical Variables:\n",
    "LotFrontage: Linear feet of street connected to property. Usually the larger the lot, the more valuable property.\n",
    "LotArea: Lot size in square feet, Size of Parcel of Land. Larger the lot, we expect property to be more expensive.\n",
    "\n",
    "### Questions:\n",
    "1. How is LotSize, LotFrontage data like?\n",
    "> a) LotFrontage has 59 null entries. We can argue that every lot has a frontage, we need to should fill in these data.\n",
    "\n",
    "2. Is LotSize, LotFrontage correlated with SalePrice?\n",
    "> a) LotFrontage does not appear to be correlated to SalePrice. <br>\n",
    "> b) LotSize appears to have correlation with SalePrice, but there is high noise - i.e. there are some other variables that affects SalePrice to a greater extent.\n",
    "\n",
    "3. Is LotSize and LotFrontage correlated to one another?\n",
    "a) There appears to be a correlation between  LotSize and LotFrontage, although there are numerous outliers. This is logical, as LotSize is a function of LotFrontage.\n",
    "\n",
    "### Conclusions:\n",
    "The effect of LotSize on SalePrice depends on some other variable(s). We should find out what other factors affects SalePrice.\n",
    "\n",
    "### Actions Needed:\n",
    "Fill in LotFrontage based on some method."
   ]
  },
  {
   "cell_type": "code",
   "execution_count": 5,
   "metadata": {},
   "outputs": [
    {
     "name": "stdout",
     "output_type": "stream",
     "text": [
      "<class 'pandas.core.frame.DataFrame'>\n",
      "RangeIndex: 1460 entries, 0 to 1459\n",
      "Data columns (total 2 columns):\n",
      "LotFrontage    1201 non-null float64\n",
      "LotArea        1460 non-null int64\n",
      "dtypes: float64(1), int64(1)\n",
      "memory usage: 22.9 KB\n",
      "None\n",
      " \n",
      "Variable: LotFrontage\n",
      "count    1201.000000\n",
      "mean       70.049958\n",
      "std        24.284752\n",
      "min        21.000000\n",
      "25%        59.000000\n",
      "50%        69.000000\n",
      "75%        80.000000\n",
      "max       313.000000\n",
      "Name: LotFrontage, dtype: float64\n"
     ]
    },
    {
     "data": {
      "image/png": "[encoded data removed]",
      "text/plain": [
       "<matplotlib.figure.Figure at 0x2155139a4e0>"
      ]
     },
     "metadata": {},
     "output_type": "display_data"
    },
    {
     "name": "stdout",
     "output_type": "stream",
     "text": [
      "Variable: LotArea\n",
      "count      1460.000000\n",
      "mean      10516.828082\n",
      "std        9981.264932\n",
      "min        1300.000000\n",
      "25%        7553.500000\n",
      "50%        9478.500000\n",
      "75%       11601.500000\n",
      "max      215245.000000\n",
      "Name: LotArea, dtype: float64\n"
     ]
    },
    {
     "data": {
      "image/png": "[encoded data removed]",
      "text/plain": [
       "<matplotlib.figure.Figure at 0x21551732780>"
      ]
     },
     "metadata": {},
     "output_type": "display_data"
    },
    {
     "data": {
      "image/png": "[encoded data removed]",
      "text/plain": [
       "<matplotlib.figure.Figure at 0x2155172aeb8>"
      ]
     },
     "metadata": {},
     "output_type": "display_data"
    },
    {
     "data": {
      "image/png": "[encoded data removed]",
      "text/plain": [
       "<matplotlib.figure.Figure at 0x21551ad1a58>"
      ]
     },
     "metadata": {},
     "output_type": "display_data"
    },
    {
     "name": "stdout",
     "output_type": "stream",
     "text": [
      "AxesSubplot(0.125,0.125;0.775x0.755)\n"
     ]
    },
    {
     "data": {
      "image/png": "[encoded data removed]",
      "text/plain": [
       "<matplotlib.figure.Figure at 0x21551b259b0>"
      ]
     },
     "metadata": {},
     "output_type": "display_data"
    }
   ],
   "source": [
    "#1. How is LotSize, LotFrontage data like?\n",
    "lot_variables_numerical = [\"LotFrontage\", \"LotArea\"] \n",
    "\n",
    "#Check for null variables\n",
    "print(data_raw[lot_variables_numerical].info())\n",
    "print(\" \")\n",
    "\n",
    "for i in lot_variables_numerical:\n",
    "    print(\"Variable: {}\".format(i))\n",
    "    print(data_raw[i].describe())\n",
    "    sns.boxplot(x = data_raw[i])\n",
    "    plt.show()\n",
    "\n",
    "#2. Is LotSize, LotFrontage correlated with SalePrice?\n",
    "\n",
    "for i in lot_variables_numerical:\n",
    "    sns.regplot(x = data_raw[i], y = data_raw[\"SalePrice\"], fit_reg = True)\n",
    "    plt.show()\n",
    "\n",
    "#3. Is LotSize and LotFrontage correlated to one another?\n",
    "\n",
    "print(sns.regplot(x = data_raw[\"LotFrontage\"], y = data_raw[\"LotArea\"], robust = True))"
   ]
  },
  {
   "cell_type": "markdown",
   "metadata": {},
   "source": [
    "## Analysis of Categorical Lot Variables:\n",
    "\n",
    "1. Street: Type of road access - Paved or Gravel.\n",
    "2. Alley: Type of alley access - Paved or Gravel.\n",
    "3. LotShape: General shape of property\n",
    "4. LandContour: Flatness of the property\n",
    "5. Utilities: Type of utilities available\n",
    "6. LotConfig: Lot configuration\n",
    "7. LandSlope: Slope of property\n",
    "8. Neighborhood: Physical locations within Ames city limits\n",
    "9. Condition1: Proximity to main road or railroad\n",
    "10. Condition2: Proximity to main road or railroad (if a second is present)\n",
    "\n",
    "### Questions:\n",
    "1. How is Street, Alley, etc. data like? <br>\n",
    "> Street: Type of road access - Paved or Gravel, with Paved houses correlated to higher SalePrice. <br>\n",
    "> Alley: Type of alley access - Paved or Gravel, with Paved houses correlated to higher SalePrice. <br>\n",
    "> LotShape: General shape of property - Reg, IR (slightly irregular), IR2 (moderately irregular), IR3 (irregular) <br>\n",
    "> \n",
    "\n",
    "* We note that SalePrice is higher for Irregular Lots. However, this may be due to Irregular Lots being less available. <br>\n",
    "> LandContour: Flatness of the property  <br>\n",
    "Utilities: Type of utilities available <br>\n",
    "LotConfig: Lot configuration <br>\n",
    "LandSlope: Slope of property <br>\n",
    "Neighborhood: Physical locations within Ames city limits <br>\n",
    "Condition1: Proximity to main road or railroad <br>\n",
    "Condition2: Proximity to main road or railroad (if a second is present) <br>\n",
    "\n",
    "2. Is LotSize, LotFrontage correlated with SalePrice?\n",
    "> a) LotFrontage does not appear to be correlated to SalePrice. <br>\n",
    "b) LotSize appears to have correlation with SalePrice, but there is high noise - i.e. there are some other variables that affects SalePrice to a greater extent. <br>\n",
    "\n",
    "3. Is LotSize and LotFrontage correlated to one another?\n",
    "> a) There appears to be a correlation between  LotSize and LotFrontage, although there are numerous outliers. This is logical, as LotSize is a function of LotFrontage. <br>\n"
   ]
  },
  {
   "cell_type": "code",
   "execution_count": 46,
   "metadata": {},
   "outputs": [
    {
     "name": "stdout",
     "output_type": "stream",
     "text": [
      "                 mean  size\n",
      "Street                     \n",
      "Pave    181130.538514  1454\n",
      "Grvl    130190.500000     6\n",
      " \n",
      "                mean  size\n",
      "Alley                     \n",
      "Pave   168000.585366    41\n",
      "Grvl   122219.080000    50\n",
      " \n",
      "                   mean  size\n",
      "LotShape                     \n",
      "IR2       239833.365854    41\n",
      "IR3       216036.500000    10\n",
      "IR1       206101.665289   484\n",
      "Reg       164754.818378   925\n",
      " \n",
      "                      mean  size\n",
      "LandContour                     \n",
      "HLS          231533.940000    50\n",
      "Low          203661.111111    36\n",
      "Lvl          180183.746758  1311\n",
      "Bnk          143104.079365    63\n",
      " \n",
      "                   mean  size\n",
      "Utilities                    \n",
      "AllPub     180950.95682  1459\n",
      "NoSeWa     137500.00000     1\n",
      " \n",
      "                    mean  size\n",
      "LotConfig                     \n",
      "CulDSac    223854.617021    94\n",
      "FR3        208475.000000     4\n",
      "Corner     181623.425856   263\n",
      "FR2        177934.574468    47\n",
      "Inside     176938.047529  1052\n",
      " \n",
      "                    mean  size\n",
      "LandSlope                     \n",
      "Sev        204379.230769    13\n",
      "Mod        196734.138462    65\n",
      "Gtl        179956.799566  1382\n",
      " \n",
      "                       mean  size\n",
      "Neighborhood                     \n",
      "NoRidge       335295.317073    41\n",
      "NridgHt       316270.623377    77\n",
      "StoneBr       310499.000000    25\n",
      "Timber        242247.447368    38\n",
      "Veenker       238772.727273    11\n",
      "Somerst       225379.837209    86\n",
      "ClearCr       212565.428571    28\n",
      "Crawfor       210624.725490    51\n",
      "CollgCr       197965.773333   150\n",
      "Blmngtn       194870.882353    17\n",
      "Gilbert       192854.506329    79\n",
      "NWAmes        189050.068493    73\n",
      "SawyerW       186555.796610    59\n",
      "Mitchel       156270.122449    49\n",
      "NAmes         145847.080000   225\n",
      "NPkVill       142694.444444     9\n",
      "SWISU         142591.360000    25\n",
      "Blueste       137500.000000     2\n",
      "Sawyer        136793.135135    74\n",
      "OldTown       128225.300885   113\n",
      "Edwards       128219.700000   100\n",
      "BrkSide       124834.051724    58\n",
      "BrDale        104493.750000    16\n",
      "IDOTRR        100123.783784    37\n",
      "MeadowV        98576.470588    17\n",
      " \n",
      "                     mean  size\n",
      "Condition1                     \n",
      "PosA        225875.000000     8\n",
      "PosN        215184.210526    19\n",
      "RRNn        212400.000000     5\n",
      "RRNe        190750.000000     2\n",
      "Norm        184495.492063  1260\n",
      "RRAn        184396.615385    26\n",
      "Feedr       142475.481481    81\n",
      "RRAe        138400.000000    11\n",
      "Artery      135091.666667    48\n",
      " \n",
      "                     mean  size\n",
      "Condition2                     \n",
      "PosA        325000.000000     1\n",
      "PosN        284875.000000     2\n",
      "RRAe        190000.000000     1\n",
      "Norm        181169.405536  1445\n",
      "RRAn        136905.000000     1\n",
      "Feedr       121166.666667     6\n",
      "Artery      106500.000000     2\n",
      "RRNn         96750.000000     2\n",
      " \n"
     ]
    },
    {
     "data": {
      "text/plain": [
       "<seaborn.axisgrid.FacetGrid at 0x21501f63668>"
      ]
     },
     "execution_count": 46,
     "metadata": {},
     "output_type": "execute_result"
    },
    {
     "data": {
      "image/png": "[encoded data removed]",
      "text/plain": [
       "<matplotlib.figure.Figure at 0x21501f09f60>"
      ]
     },
     "metadata": {},
     "output_type": "display_data"
    }
   ],
   "source": [
    "#how does the lot variables (categorical) look like?\n",
    "lot_variables_categorical = [\"Street\", \"Alley\", \"LotShape\", \"LandContour\", \"Utilities\", \"LotConfig\", \n",
    "                \"LandSlope\", \"Neighborhood\", \"Condition1\", \"Condition2\"]\n",
    "\n",
    "for i in lot_variables_categorical:\n",
    "    print(data_raw.groupby([i], as_index=False)[\"SalePrice\"].aggregate([np.mean, np.size]).sort_values(\"mean\", ascending = False))\n",
    "    print(\" \")\n",
    "    \n",
    "neighborhood_sorted = (data_raw.groupby([\"Neighborhood\"], as_index=False)[\"SalePrice\"].aggregate([np.mean, np.size]).sort_values(\"mean\", ascending = False)).index.values\n",
    "\n",
    "neighborhood_df = pd.DataFrame()\n",
    "\n",
    "\n",
    "g = sns.FacetGrid(data_raw.loc[:, (\"Neighborhood\", \"SalePrice\")], col = \"Neighborhood\")\n",
    "g.map(plt.hist, \"SalePrice\")\n",
    "\n",
    "#for i in neighborhood_sorted:\n",
    "#    neighborhood_df = neighborhood_df.append(data_raw.loc[data_raw[\"Neighborhood\"] == i, [\"Neighborhood\", \"SalePrice\"]])\n",
    "    "
   ]
  },
  {
   "cell_type": "code",
   "execution_count": 25,
   "metadata": {},
   "outputs": [
    {
     "data": {
      "text/plain": [
       "25"
      ]
     },
     "execution_count": 25,
     "metadata": {},
     "output_type": "execute_result"
    }
   ],
   "source": [
    "## Analysis of "
   ]
  },
  {
   "cell_type": "markdown",
   "metadata": {},
   "source": []
  },
  {
   "cell_type": "markdown",
   "metadata": {},
   "source": [
    "\n",
    "Variables related to Dwelling:\n",
    "BldgType: Type of dwelling\n",
    "HouseStyle: Style of dwelling\n",
    "OverallQual: Overall material and finish quality\n",
    "OverallCond: Overall condition rating\n",
    "YearBuilt: Original construction date\n",
    "YearRemodAdd: Remodel date\n",
    "RoofStyle: Type of roof\n",
    "RoofMatl: Roof material\n",
    "Exterior1st: Exterior covering on house\n",
    "Exterior2nd: Exterior covering on house (if more than one material)\n",
    "MasVnrType: Masonry veneer type\n",
    "MasVnrArea: Masonry veneer area in square feet\n",
    "ExterQual: Exterior material quality\n",
    "ExterCond: Present condition of the material on the exterior\n",
    "Foundation: Type of foundation\n",
    "BsmtQual: Height of the basement\n",
    "BsmtCond: General condition of the basement\n",
    "BsmtExposure: Walkout or garden level basement walls\n",
    "BsmtFinType1: Quality of basement finished area\n",
    "BsmtFinSF1: Type 1 finished square feet\n",
    "BsmtFinType2: Quality of second finished area (if present)\n",
    "BsmtFinSF2: Type 2 finished square feet\n",
    "BsmtUnfSF: Unfinished square feet of basement area\n",
    "TotalBsmtSF: Total square feet of basement area\n",
    "Heating: Type of heating\n",
    "HeatingQC: Heating quality and condition\n",
    "CentralAir: Central air conditioning\n",
    "Electrical: Electrical system\n",
    "1stFlrSF: First Floor square feet\n",
    "2ndFlrSF: Second floor square feet\n",
    "LowQualFinSF: Low quality finished square feet (all floors)\n",
    "GrLivArea: Above grade (ground) living area square feet\n",
    "BsmtFullBath: Basement full bathrooms\n",
    "BsmtHalfBath: Basement half bathrooms\n",
    "FullBath: Full bathrooms above grade\n",
    "HalfBath: Half baths above grade\n",
    "Bedroom: Number of bedrooms above basement level\n",
    "Kitchen: Number of kitchens\n",
    "KitchenQual: Kitchen quality\n",
    "TotRmsAbvGrd: Total rooms above grade (does not include bathrooms)\n",
    "Functional: Home functionality rating\n",
    "Fireplaces: Number of fireplaces - Ordinal.\n",
    "FireplaceQu: Fireplace quality\n",
    "GarageType: Garage location\n",
    "GarageYrBlt: Year garage was built\n",
    "GarageFinish: Interior finish of the garage\n",
    "GarageCars: Size of garage in car capacity\n",
    "GarageArea: Size of garage in square feet\n",
    "GarageQual: Garage quality\n",
    "GarageCond: Garage condition\n",
    "PavedDrive: Paved driveway\n",
    "WoodDeckSF: Wood deck area in square feet\n",
    "OpenPorchSF: Open porch area in square feet\n",
    "EnclosedPorch: Enclosed porch area in square feet\n",
    "3SsnPorch: Three season porch area in square feet\n",
    "ScreenPorch: Screen porch area in square feet\n",
    "PoolArea: Pool area in square feet\n",
    "PoolQC: Pool quality\n",
    "Fence: Fence quality\n",
    "MiscFeature: Miscellaneous feature not covered in other categories\n",
    "MiscVal: $Value of miscellaneous feature\n",
    "MoSold: Month Sold\n",
    "YrSold: Year Sold\n",
    "SaleType: Type of sale\n",
    "SaleCondition: Condition of sale"
   ]
  },
  {
   "cell_type": "code",
   "execution_count": 47,
   "metadata": {},
   "outputs": [
    {
     "data": {
      "text/plain": [
       "RangeIndex(start=0, stop=1460, step=1)"
      ]
     },
     "execution_count": 47,
     "metadata": {},
     "output_type": "execute_result"
    }
   ],
   "source": [
    "data_raw.index"
   ]
  },
  {
   "cell_type": "code",
   "execution_count": null,
   "metadata": {},
   "outputs": [],
   "source": []
  }
 ],
 "metadata": {
  "kernelspec": {
   "display_name": "Python 3",
   "language": "python",
   "name": "python3"
  },
  "language_info": {
   "codemirror_mode": {
    "name": "ipython",
    "version": 3
   },
   "file_extension": ".py",
   "mimetype": "text/x-python",
   "name": "python",
   "nbconvert_exporter": "python",
   "pygments_lexer": "ipython3",
   "version": "3.6.4"
  }
 },
 "nbformat": 4,
 "nbformat_minor": 2
}
